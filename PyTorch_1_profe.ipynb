{
  "nbformat": 4,
  "nbformat_minor": 0,
  "metadata": {
    "colab": {
      "provenance": [],
      "include_colab_link": true
    },
    "kernelspec": {
      "name": "python3",
      "display_name": "Python 3"
    },
    "language_info": {
      "name": "python"
    },
    "widgets": {
      "application/vnd.jupyter.widget-state+json": {
        "2bb6ef165a044a1f92c37b7a7af2c30c": {
          "model_module": "@jupyter-widgets/controls",
          "model_name": "HBoxModel",
          "model_module_version": "1.5.0",
          "state": {
            "_view_name": "HBoxView",
            "_dom_classes": [],
            "_model_name": "HBoxModel",
            "_view_module": "@jupyter-widgets/controls",
            "_model_module_version": "1.5.0",
            "_view_count": null,
            "_view_module_version": "1.5.0",
            "box_style": "",
            "layout": "IPY_MODEL_d29b8f7776a14bdeb82046836d253bf6",
            "_model_module": "@jupyter-widgets/controls",
            "children": [
              "IPY_MODEL_dfa01bf55c384b17b04c7a93fadbfe85",
              "IPY_MODEL_4f87dab5b74e4f65b03e01a7fb8ab0a3",
              "IPY_MODEL_babc80a073894a7ba109ba4d14f08ba7"
            ]
          }
        },
        "d29b8f7776a14bdeb82046836d253bf6": {
          "model_module": "@jupyter-widgets/base",
          "model_name": "LayoutModel",
          "model_module_version": "1.2.0",
          "state": {
            "_view_name": "LayoutView",
            "grid_template_rows": null,
            "right": null,
            "justify_content": null,
            "_view_module": "@jupyter-widgets/base",
            "overflow": null,
            "_model_module_version": "1.2.0",
            "_view_count": null,
            "flex_flow": null,
            "width": null,
            "min_width": null,
            "border": null,
            "align_items": null,
            "bottom": null,
            "_model_module": "@jupyter-widgets/base",
            "top": null,
            "grid_column": null,
            "overflow_y": null,
            "overflow_x": null,
            "grid_auto_flow": null,
            "grid_area": null,
            "grid_template_columns": null,
            "flex": null,
            "_model_name": "LayoutModel",
            "justify_items": null,
            "grid_row": null,
            "max_height": null,
            "align_content": null,
            "visibility": null,
            "align_self": null,
            "height": null,
            "min_height": null,
            "padding": null,
            "grid_auto_rows": null,
            "grid_gap": null,
            "max_width": null,
            "order": null,
            "_view_module_version": "1.2.0",
            "grid_template_areas": null,
            "object_position": null,
            "object_fit": null,
            "grid_auto_columns": null,
            "margin": null,
            "display": null,
            "left": null
          }
        },
        "dfa01bf55c384b17b04c7a93fadbfe85": {
          "model_module": "@jupyter-widgets/controls",
          "model_name": "HTMLModel",
          "model_module_version": "1.5.0",
          "state": {
            "_view_name": "HTMLView",
            "style": "IPY_MODEL_0043ed8f52e64895975c7d856ca9d907",
            "_dom_classes": [],
            "description": "",
            "_model_name": "HTMLModel",
            "placeholder": "​",
            "_view_module": "@jupyter-widgets/controls",
            "_model_module_version": "1.5.0",
            "value": "",
            "_view_count": null,
            "_view_module_version": "1.5.0",
            "description_tooltip": null,
            "_model_module": "@jupyter-widgets/controls",
            "layout": "IPY_MODEL_cf57512ee7f74219bf409a658aa1d69e"
          }
        },
        "4f87dab5b74e4f65b03e01a7fb8ab0a3": {
          "model_module": "@jupyter-widgets/controls",
          "model_name": "FloatProgressModel",
          "model_module_version": "1.5.0",
          "state": {
            "_view_name": "ProgressView",
            "style": "IPY_MODEL_a7a89ca82a0543b29753c826b9927263",
            "_dom_classes": [],
            "description": "",
            "_model_name": "FloatProgressModel",
            "bar_style": "success",
            "max": 26421880,
            "_view_module": "@jupyter-widgets/controls",
            "_model_module_version": "1.5.0",
            "value": 26421880,
            "_view_count": null,
            "_view_module_version": "1.5.0",
            "orientation": "horizontal",
            "min": 0,
            "description_tooltip": null,
            "_model_module": "@jupyter-widgets/controls",
            "layout": "IPY_MODEL_9d79719ece9849dfa363737360dd24d3"
          }
        },
        "babc80a073894a7ba109ba4d14f08ba7": {
          "model_module": "@jupyter-widgets/controls",
          "model_name": "HTMLModel",
          "model_module_version": "1.5.0",
          "state": {
            "_view_name": "HTMLView",
            "style": "IPY_MODEL_cb3c42adf26f4ad2b62b697c0349a882",
            "_dom_classes": [],
            "description": "",
            "_model_name": "HTMLModel",
            "placeholder": "​",
            "_view_module": "@jupyter-widgets/controls",
            "_model_module_version": "1.5.0",
            "value": " 26422272/? [00:02&lt;00:00, 17543639.16it/s]",
            "_view_count": null,
            "_view_module_version": "1.5.0",
            "description_tooltip": null,
            "_model_module": "@jupyter-widgets/controls",
            "layout": "IPY_MODEL_fad37e7dc3d342bba4f05c5047b1eda3"
          }
        },
        "0043ed8f52e64895975c7d856ca9d907": {
          "model_module": "@jupyter-widgets/controls",
          "model_name": "DescriptionStyleModel",
          "model_module_version": "1.5.0",
          "state": {
            "_view_name": "StyleView",
            "_model_name": "DescriptionStyleModel",
            "description_width": "",
            "_view_module": "@jupyter-widgets/base",
            "_model_module_version": "1.5.0",
            "_view_count": null,
            "_view_module_version": "1.2.0",
            "_model_module": "@jupyter-widgets/controls"
          }
        },
        "cf57512ee7f74219bf409a658aa1d69e": {
          "model_module": "@jupyter-widgets/base",
          "model_name": "LayoutModel",
          "model_module_version": "1.2.0",
          "state": {
            "_view_name": "LayoutView",
            "grid_template_rows": null,
            "right": null,
            "justify_content": null,
            "_view_module": "@jupyter-widgets/base",
            "overflow": null,
            "_model_module_version": "1.2.0",
            "_view_count": null,
            "flex_flow": null,
            "width": null,
            "min_width": null,
            "border": null,
            "align_items": null,
            "bottom": null,
            "_model_module": "@jupyter-widgets/base",
            "top": null,
            "grid_column": null,
            "overflow_y": null,
            "overflow_x": null,
            "grid_auto_flow": null,
            "grid_area": null,
            "grid_template_columns": null,
            "flex": null,
            "_model_name": "LayoutModel",
            "justify_items": null,
            "grid_row": null,
            "max_height": null,
            "align_content": null,
            "visibility": null,
            "align_self": null,
            "height": null,
            "min_height": null,
            "padding": null,
            "grid_auto_rows": null,
            "grid_gap": null,
            "max_width": null,
            "order": null,
            "_view_module_version": "1.2.0",
            "grid_template_areas": null,
            "object_position": null,
            "object_fit": null,
            "grid_auto_columns": null,
            "margin": null,
            "display": null,
            "left": null
          }
        },
        "a7a89ca82a0543b29753c826b9927263": {
          "model_module": "@jupyter-widgets/controls",
          "model_name": "ProgressStyleModel",
          "model_module_version": "1.5.0",
          "state": {
            "_view_name": "StyleView",
            "_model_name": "ProgressStyleModel",
            "description_width": "",
            "_view_module": "@jupyter-widgets/base",
            "_model_module_version": "1.5.0",
            "_view_count": null,
            "_view_module_version": "1.2.0",
            "bar_color": null,
            "_model_module": "@jupyter-widgets/controls"
          }
        },
        "9d79719ece9849dfa363737360dd24d3": {
          "model_module": "@jupyter-widgets/base",
          "model_name": "LayoutModel",
          "model_module_version": "1.2.0",
          "state": {
            "_view_name": "LayoutView",
            "grid_template_rows": null,
            "right": null,
            "justify_content": null,
            "_view_module": "@jupyter-widgets/base",
            "overflow": null,
            "_model_module_version": "1.2.0",
            "_view_count": null,
            "flex_flow": null,
            "width": null,
            "min_width": null,
            "border": null,
            "align_items": null,
            "bottom": null,
            "_model_module": "@jupyter-widgets/base",
            "top": null,
            "grid_column": null,
            "overflow_y": null,
            "overflow_x": null,
            "grid_auto_flow": null,
            "grid_area": null,
            "grid_template_columns": null,
            "flex": null,
            "_model_name": "LayoutModel",
            "justify_items": null,
            "grid_row": null,
            "max_height": null,
            "align_content": null,
            "visibility": null,
            "align_self": null,
            "height": null,
            "min_height": null,
            "padding": null,
            "grid_auto_rows": null,
            "grid_gap": null,
            "max_width": null,
            "order": null,
            "_view_module_version": "1.2.0",
            "grid_template_areas": null,
            "object_position": null,
            "object_fit": null,
            "grid_auto_columns": null,
            "margin": null,
            "display": null,
            "left": null
          }
        },
        "cb3c42adf26f4ad2b62b697c0349a882": {
          "model_module": "@jupyter-widgets/controls",
          "model_name": "DescriptionStyleModel",
          "model_module_version": "1.5.0",
          "state": {
            "_view_name": "StyleView",
            "_model_name": "DescriptionStyleModel",
            "description_width": "",
            "_view_module": "@jupyter-widgets/base",
            "_model_module_version": "1.5.0",
            "_view_count": null,
            "_view_module_version": "1.2.0",
            "_model_module": "@jupyter-widgets/controls"
          }
        },
        "fad37e7dc3d342bba4f05c5047b1eda3": {
          "model_module": "@jupyter-widgets/base",
          "model_name": "LayoutModel",
          "model_module_version": "1.2.0",
          "state": {
            "_view_name": "LayoutView",
            "grid_template_rows": null,
            "right": null,
            "justify_content": null,
            "_view_module": "@jupyter-widgets/base",
            "overflow": null,
            "_model_module_version": "1.2.0",
            "_view_count": null,
            "flex_flow": null,
            "width": null,
            "min_width": null,
            "border": null,
            "align_items": null,
            "bottom": null,
            "_model_module": "@jupyter-widgets/base",
            "top": null,
            "grid_column": null,
            "overflow_y": null,
            "overflow_x": null,
            "grid_auto_flow": null,
            "grid_area": null,
            "grid_template_columns": null,
            "flex": null,
            "_model_name": "LayoutModel",
            "justify_items": null,
            "grid_row": null,
            "max_height": null,
            "align_content": null,
            "visibility": null,
            "align_self": null,
            "height": null,
            "min_height": null,
            "padding": null,
            "grid_auto_rows": null,
            "grid_gap": null,
            "max_width": null,
            "order": null,
            "_view_module_version": "1.2.0",
            "grid_template_areas": null,
            "object_position": null,
            "object_fit": null,
            "grid_auto_columns": null,
            "margin": null,
            "display": null,
            "left": null
          }
        },
        "d73486be8280470f87d901918cbef0c8": {
          "model_module": "@jupyter-widgets/controls",
          "model_name": "HBoxModel",
          "model_module_version": "1.5.0",
          "state": {
            "_view_name": "HBoxView",
            "_dom_classes": [],
            "_model_name": "HBoxModel",
            "_view_module": "@jupyter-widgets/controls",
            "_model_module_version": "1.5.0",
            "_view_count": null,
            "_view_module_version": "1.5.0",
            "box_style": "",
            "layout": "IPY_MODEL_a9f1c92542484bd48472d3a657640f52",
            "_model_module": "@jupyter-widgets/controls",
            "children": [
              "IPY_MODEL_1440ec98051f4ccab4a402792a16876c",
              "IPY_MODEL_d854055cc59642649bc3ad7c34043d0b",
              "IPY_MODEL_98ce937334a44555b8ff1a356bf0f9f0"
            ]
          }
        },
        "a9f1c92542484bd48472d3a657640f52": {
          "model_module": "@jupyter-widgets/base",
          "model_name": "LayoutModel",
          "model_module_version": "1.2.0",
          "state": {
            "_view_name": "LayoutView",
            "grid_template_rows": null,
            "right": null,
            "justify_content": null,
            "_view_module": "@jupyter-widgets/base",
            "overflow": null,
            "_model_module_version": "1.2.0",
            "_view_count": null,
            "flex_flow": null,
            "width": null,
            "min_width": null,
            "border": null,
            "align_items": null,
            "bottom": null,
            "_model_module": "@jupyter-widgets/base",
            "top": null,
            "grid_column": null,
            "overflow_y": null,
            "overflow_x": null,
            "grid_auto_flow": null,
            "grid_area": null,
            "grid_template_columns": null,
            "flex": null,
            "_model_name": "LayoutModel",
            "justify_items": null,
            "grid_row": null,
            "max_height": null,
            "align_content": null,
            "visibility": null,
            "align_self": null,
            "height": null,
            "min_height": null,
            "padding": null,
            "grid_auto_rows": null,
            "grid_gap": null,
            "max_width": null,
            "order": null,
            "_view_module_version": "1.2.0",
            "grid_template_areas": null,
            "object_position": null,
            "object_fit": null,
            "grid_auto_columns": null,
            "margin": null,
            "display": null,
            "left": null
          }
        },
        "1440ec98051f4ccab4a402792a16876c": {
          "model_module": "@jupyter-widgets/controls",
          "model_name": "HTMLModel",
          "model_module_version": "1.5.0",
          "state": {
            "_view_name": "HTMLView",
            "style": "IPY_MODEL_c94ccd785de547839dad254619b6ad32",
            "_dom_classes": [],
            "description": "",
            "_model_name": "HTMLModel",
            "placeholder": "​",
            "_view_module": "@jupyter-widgets/controls",
            "_model_module_version": "1.5.0",
            "value": "",
            "_view_count": null,
            "_view_module_version": "1.5.0",
            "description_tooltip": null,
            "_model_module": "@jupyter-widgets/controls",
            "layout": "IPY_MODEL_65d25551a18a4244926e790d22c376af"
          }
        },
        "d854055cc59642649bc3ad7c34043d0b": {
          "model_module": "@jupyter-widgets/controls",
          "model_name": "FloatProgressModel",
          "model_module_version": "1.5.0",
          "state": {
            "_view_name": "ProgressView",
            "style": "IPY_MODEL_1a7d9afbb4314fd487b0f5d75f844cdb",
            "_dom_classes": [],
            "description": "",
            "_model_name": "FloatProgressModel",
            "bar_style": "success",
            "max": 29515,
            "_view_module": "@jupyter-widgets/controls",
            "_model_module_version": "1.5.0",
            "value": 29515,
            "_view_count": null,
            "_view_module_version": "1.5.0",
            "orientation": "horizontal",
            "min": 0,
            "description_tooltip": null,
            "_model_module": "@jupyter-widgets/controls",
            "layout": "IPY_MODEL_975b0b8cbe4143d88c8149470c365094"
          }
        },
        "98ce937334a44555b8ff1a356bf0f9f0": {
          "model_module": "@jupyter-widgets/controls",
          "model_name": "HTMLModel",
          "model_module_version": "1.5.0",
          "state": {
            "_view_name": "HTMLView",
            "style": "IPY_MODEL_ea1e3c36b3de4451a93bf8d810888c63",
            "_dom_classes": [],
            "description": "",
            "_model_name": "HTMLModel",
            "placeholder": "​",
            "_view_module": "@jupyter-widgets/controls",
            "_model_module_version": "1.5.0",
            "value": " 29696/? [00:00&lt;00:00, 89004.11it/s]",
            "_view_count": null,
            "_view_module_version": "1.5.0",
            "description_tooltip": null,
            "_model_module": "@jupyter-widgets/controls",
            "layout": "IPY_MODEL_6057790f2a0f4c32ae1d259bcdd65b33"
          }
        },
        "c94ccd785de547839dad254619b6ad32": {
          "model_module": "@jupyter-widgets/controls",
          "model_name": "DescriptionStyleModel",
          "model_module_version": "1.5.0",
          "state": {
            "_view_name": "StyleView",
            "_model_name": "DescriptionStyleModel",
            "description_width": "",
            "_view_module": "@jupyter-widgets/base",
            "_model_module_version": "1.5.0",
            "_view_count": null,
            "_view_module_version": "1.2.0",
            "_model_module": "@jupyter-widgets/controls"
          }
        },
        "65d25551a18a4244926e790d22c376af": {
          "model_module": "@jupyter-widgets/base",
          "model_name": "LayoutModel",
          "model_module_version": "1.2.0",
          "state": {
            "_view_name": "LayoutView",
            "grid_template_rows": null,
            "right": null,
            "justify_content": null,
            "_view_module": "@jupyter-widgets/base",
            "overflow": null,
            "_model_module_version": "1.2.0",
            "_view_count": null,
            "flex_flow": null,
            "width": null,
            "min_width": null,
            "border": null,
            "align_items": null,
            "bottom": null,
            "_model_module": "@jupyter-widgets/base",
            "top": null,
            "grid_column": null,
            "overflow_y": null,
            "overflow_x": null,
            "grid_auto_flow": null,
            "grid_area": null,
            "grid_template_columns": null,
            "flex": null,
            "_model_name": "LayoutModel",
            "justify_items": null,
            "grid_row": null,
            "max_height": null,
            "align_content": null,
            "visibility": null,
            "align_self": null,
            "height": null,
            "min_height": null,
            "padding": null,
            "grid_auto_rows": null,
            "grid_gap": null,
            "max_width": null,
            "order": null,
            "_view_module_version": "1.2.0",
            "grid_template_areas": null,
            "object_position": null,
            "object_fit": null,
            "grid_auto_columns": null,
            "margin": null,
            "display": null,
            "left": null
          }
        },
        "1a7d9afbb4314fd487b0f5d75f844cdb": {
          "model_module": "@jupyter-widgets/controls",
          "model_name": "ProgressStyleModel",
          "model_module_version": "1.5.0",
          "state": {
            "_view_name": "StyleView",
            "_model_name": "ProgressStyleModel",
            "description_width": "",
            "_view_module": "@jupyter-widgets/base",
            "_model_module_version": "1.5.0",
            "_view_count": null,
            "_view_module_version": "1.2.0",
            "bar_color": null,
            "_model_module": "@jupyter-widgets/controls"
          }
        },
        "975b0b8cbe4143d88c8149470c365094": {
          "model_module": "@jupyter-widgets/base",
          "model_name": "LayoutModel",
          "model_module_version": "1.2.0",
          "state": {
            "_view_name": "LayoutView",
            "grid_template_rows": null,
            "right": null,
            "justify_content": null,
            "_view_module": "@jupyter-widgets/base",
            "overflow": null,
            "_model_module_version": "1.2.0",
            "_view_count": null,
            "flex_flow": null,
            "width": null,
            "min_width": null,
            "border": null,
            "align_items": null,
            "bottom": null,
            "_model_module": "@jupyter-widgets/base",
            "top": null,
            "grid_column": null,
            "overflow_y": null,
            "overflow_x": null,
            "grid_auto_flow": null,
            "grid_area": null,
            "grid_template_columns": null,
            "flex": null,
            "_model_name": "LayoutModel",
            "justify_items": null,
            "grid_row": null,
            "max_height": null,
            "align_content": null,
            "visibility": null,
            "align_self": null,
            "height": null,
            "min_height": null,
            "padding": null,
            "grid_auto_rows": null,
            "grid_gap": null,
            "max_width": null,
            "order": null,
            "_view_module_version": "1.2.0",
            "grid_template_areas": null,
            "object_position": null,
            "object_fit": null,
            "grid_auto_columns": null,
            "margin": null,
            "display": null,
            "left": null
          }
        },
        "ea1e3c36b3de4451a93bf8d810888c63": {
          "model_module": "@jupyter-widgets/controls",
          "model_name": "DescriptionStyleModel",
          "model_module_version": "1.5.0",
          "state": {
            "_view_name": "StyleView",
            "_model_name": "DescriptionStyleModel",
            "description_width": "",
            "_view_module": "@jupyter-widgets/base",
            "_model_module_version": "1.5.0",
            "_view_count": null,
            "_view_module_version": "1.2.0",
            "_model_module": "@jupyter-widgets/controls"
          }
        },
        "6057790f2a0f4c32ae1d259bcdd65b33": {
          "model_module": "@jupyter-widgets/base",
          "model_name": "LayoutModel",
          "model_module_version": "1.2.0",
          "state": {
            "_view_name": "LayoutView",
            "grid_template_rows": null,
            "right": null,
            "justify_content": null,
            "_view_module": "@jupyter-widgets/base",
            "overflow": null,
            "_model_module_version": "1.2.0",
            "_view_count": null,
            "flex_flow": null,
            "width": null,
            "min_width": null,
            "border": null,
            "align_items": null,
            "bottom": null,
            "_model_module": "@jupyter-widgets/base",
            "top": null,
            "grid_column": null,
            "overflow_y": null,
            "overflow_x": null,
            "grid_auto_flow": null,
            "grid_area": null,
            "grid_template_columns": null,
            "flex": null,
            "_model_name": "LayoutModel",
            "justify_items": null,
            "grid_row": null,
            "max_height": null,
            "align_content": null,
            "visibility": null,
            "align_self": null,
            "height": null,
            "min_height": null,
            "padding": null,
            "grid_auto_rows": null,
            "grid_gap": null,
            "max_width": null,
            "order": null,
            "_view_module_version": "1.2.0",
            "grid_template_areas": null,
            "object_position": null,
            "object_fit": null,
            "grid_auto_columns": null,
            "margin": null,
            "display": null,
            "left": null
          }
        },
        "917c944064a84b6191c04760d1100db5": {
          "model_module": "@jupyter-widgets/controls",
          "model_name": "HBoxModel",
          "model_module_version": "1.5.0",
          "state": {
            "_view_name": "HBoxView",
            "_dom_classes": [],
            "_model_name": "HBoxModel",
            "_view_module": "@jupyter-widgets/controls",
            "_model_module_version": "1.5.0",
            "_view_count": null,
            "_view_module_version": "1.5.0",
            "box_style": "",
            "layout": "IPY_MODEL_a7182e0b66294556891f25dd4a5d3f43",
            "_model_module": "@jupyter-widgets/controls",
            "children": [
              "IPY_MODEL_55a6638eb742484fa79783a34428a45d",
              "IPY_MODEL_f8472267a37e4ca8936872df2f61f461",
              "IPY_MODEL_d2cf39304ab94e20ac324e8b711cdbed"
            ]
          }
        },
        "a7182e0b66294556891f25dd4a5d3f43": {
          "model_module": "@jupyter-widgets/base",
          "model_name": "LayoutModel",
          "model_module_version": "1.2.0",
          "state": {
            "_view_name": "LayoutView",
            "grid_template_rows": null,
            "right": null,
            "justify_content": null,
            "_view_module": "@jupyter-widgets/base",
            "overflow": null,
            "_model_module_version": "1.2.0",
            "_view_count": null,
            "flex_flow": null,
            "width": null,
            "min_width": null,
            "border": null,
            "align_items": null,
            "bottom": null,
            "_model_module": "@jupyter-widgets/base",
            "top": null,
            "grid_column": null,
            "overflow_y": null,
            "overflow_x": null,
            "grid_auto_flow": null,
            "grid_area": null,
            "grid_template_columns": null,
            "flex": null,
            "_model_name": "LayoutModel",
            "justify_items": null,
            "grid_row": null,
            "max_height": null,
            "align_content": null,
            "visibility": null,
            "align_self": null,
            "height": null,
            "min_height": null,
            "padding": null,
            "grid_auto_rows": null,
            "grid_gap": null,
            "max_width": null,
            "order": null,
            "_view_module_version": "1.2.0",
            "grid_template_areas": null,
            "object_position": null,
            "object_fit": null,
            "grid_auto_columns": null,
            "margin": null,
            "display": null,
            "left": null
          }
        },
        "55a6638eb742484fa79783a34428a45d": {
          "model_module": "@jupyter-widgets/controls",
          "model_name": "HTMLModel",
          "model_module_version": "1.5.0",
          "state": {
            "_view_name": "HTMLView",
            "style": "IPY_MODEL_68326bf9e6cb42bb8bf509fc3e014d30",
            "_dom_classes": [],
            "description": "",
            "_model_name": "HTMLModel",
            "placeholder": "​",
            "_view_module": "@jupyter-widgets/controls",
            "_model_module_version": "1.5.0",
            "value": "",
            "_view_count": null,
            "_view_module_version": "1.5.0",
            "description_tooltip": null,
            "_model_module": "@jupyter-widgets/controls",
            "layout": "IPY_MODEL_ffef6a03b4124b4b82120e813e2140cc"
          }
        },
        "f8472267a37e4ca8936872df2f61f461": {
          "model_module": "@jupyter-widgets/controls",
          "model_name": "FloatProgressModel",
          "model_module_version": "1.5.0",
          "state": {
            "_view_name": "ProgressView",
            "style": "IPY_MODEL_cce34d40b1b5417a9b76c84d2b9f118e",
            "_dom_classes": [],
            "description": "",
            "_model_name": "FloatProgressModel",
            "bar_style": "success",
            "max": 4422102,
            "_view_module": "@jupyter-widgets/controls",
            "_model_module_version": "1.5.0",
            "value": 4422102,
            "_view_count": null,
            "_view_module_version": "1.5.0",
            "orientation": "horizontal",
            "min": 0,
            "description_tooltip": null,
            "_model_module": "@jupyter-widgets/controls",
            "layout": "IPY_MODEL_21fb52b5418147f2b84de02037014b2f"
          }
        },
        "d2cf39304ab94e20ac324e8b711cdbed": {
          "model_module": "@jupyter-widgets/controls",
          "model_name": "HTMLModel",
          "model_module_version": "1.5.0",
          "state": {
            "_view_name": "HTMLView",
            "style": "IPY_MODEL_7acd3e15224e4557a23c430c672d8b2d",
            "_dom_classes": [],
            "description": "",
            "_model_name": "HTMLModel",
            "placeholder": "​",
            "_view_module": "@jupyter-widgets/controls",
            "_model_module_version": "1.5.0",
            "value": " 4422656/? [00:01&lt;00:00, 6727931.89it/s]",
            "_view_count": null,
            "_view_module_version": "1.5.0",
            "description_tooltip": null,
            "_model_module": "@jupyter-widgets/controls",
            "layout": "IPY_MODEL_730b915cc0924f00989a0c10720492c2"
          }
        },
        "68326bf9e6cb42bb8bf509fc3e014d30": {
          "model_module": "@jupyter-widgets/controls",
          "model_name": "DescriptionStyleModel",
          "model_module_version": "1.5.0",
          "state": {
            "_view_name": "StyleView",
            "_model_name": "DescriptionStyleModel",
            "description_width": "",
            "_view_module": "@jupyter-widgets/base",
            "_model_module_version": "1.5.0",
            "_view_count": null,
            "_view_module_version": "1.2.0",
            "_model_module": "@jupyter-widgets/controls"
          }
        },
        "ffef6a03b4124b4b82120e813e2140cc": {
          "model_module": "@jupyter-widgets/base",
          "model_name": "LayoutModel",
          "model_module_version": "1.2.0",
          "state": {
            "_view_name": "LayoutView",
            "grid_template_rows": null,
            "right": null,
            "justify_content": null,
            "_view_module": "@jupyter-widgets/base",
            "overflow": null,
            "_model_module_version": "1.2.0",
            "_view_count": null,
            "flex_flow": null,
            "width": null,
            "min_width": null,
            "border": null,
            "align_items": null,
            "bottom": null,
            "_model_module": "@jupyter-widgets/base",
            "top": null,
            "grid_column": null,
            "overflow_y": null,
            "overflow_x": null,
            "grid_auto_flow": null,
            "grid_area": null,
            "grid_template_columns": null,
            "flex": null,
            "_model_name": "LayoutModel",
            "justify_items": null,
            "grid_row": null,
            "max_height": null,
            "align_content": null,
            "visibility": null,
            "align_self": null,
            "height": null,
            "min_height": null,
            "padding": null,
            "grid_auto_rows": null,
            "grid_gap": null,
            "max_width": null,
            "order": null,
            "_view_module_version": "1.2.0",
            "grid_template_areas": null,
            "object_position": null,
            "object_fit": null,
            "grid_auto_columns": null,
            "margin": null,
            "display": null,
            "left": null
          }
        },
        "cce34d40b1b5417a9b76c84d2b9f118e": {
          "model_module": "@jupyter-widgets/controls",
          "model_name": "ProgressStyleModel",
          "model_module_version": "1.5.0",
          "state": {
            "_view_name": "StyleView",
            "_model_name": "ProgressStyleModel",
            "description_width": "",
            "_view_module": "@jupyter-widgets/base",
            "_model_module_version": "1.5.0",
            "_view_count": null,
            "_view_module_version": "1.2.0",
            "bar_color": null,
            "_model_module": "@jupyter-widgets/controls"
          }
        },
        "21fb52b5418147f2b84de02037014b2f": {
          "model_module": "@jupyter-widgets/base",
          "model_name": "LayoutModel",
          "model_module_version": "1.2.0",
          "state": {
            "_view_name": "LayoutView",
            "grid_template_rows": null,
            "right": null,
            "justify_content": null,
            "_view_module": "@jupyter-widgets/base",
            "overflow": null,
            "_model_module_version": "1.2.0",
            "_view_count": null,
            "flex_flow": null,
            "width": null,
            "min_width": null,
            "border": null,
            "align_items": null,
            "bottom": null,
            "_model_module": "@jupyter-widgets/base",
            "top": null,
            "grid_column": null,
            "overflow_y": null,
            "overflow_x": null,
            "grid_auto_flow": null,
            "grid_area": null,
            "grid_template_columns": null,
            "flex": null,
            "_model_name": "LayoutModel",
            "justify_items": null,
            "grid_row": null,
            "max_height": null,
            "align_content": null,
            "visibility": null,
            "align_self": null,
            "height": null,
            "min_height": null,
            "padding": null,
            "grid_auto_rows": null,
            "grid_gap": null,
            "max_width": null,
            "order": null,
            "_view_module_version": "1.2.0",
            "grid_template_areas": null,
            "object_position": null,
            "object_fit": null,
            "grid_auto_columns": null,
            "margin": null,
            "display": null,
            "left": null
          }
        },
        "7acd3e15224e4557a23c430c672d8b2d": {
          "model_module": "@jupyter-widgets/controls",
          "model_name": "DescriptionStyleModel",
          "model_module_version": "1.5.0",
          "state": {
            "_view_name": "StyleView",
            "_model_name": "DescriptionStyleModel",
            "description_width": "",
            "_view_module": "@jupyter-widgets/base",
            "_model_module_version": "1.5.0",
            "_view_count": null,
            "_view_module_version": "1.2.0",
            "_model_module": "@jupyter-widgets/controls"
          }
        },
        "730b915cc0924f00989a0c10720492c2": {
          "model_module": "@jupyter-widgets/base",
          "model_name": "LayoutModel",
          "model_module_version": "1.2.0",
          "state": {
            "_view_name": "LayoutView",
            "grid_template_rows": null,
            "right": null,
            "justify_content": null,
            "_view_module": "@jupyter-widgets/base",
            "overflow": null,
            "_model_module_version": "1.2.0",
            "_view_count": null,
            "flex_flow": null,
            "width": null,
            "min_width": null,
            "border": null,
            "align_items": null,
            "bottom": null,
            "_model_module": "@jupyter-widgets/base",
            "top": null,
            "grid_column": null,
            "overflow_y": null,
            "overflow_x": null,
            "grid_auto_flow": null,
            "grid_area": null,
            "grid_template_columns": null,
            "flex": null,
            "_model_name": "LayoutModel",
            "justify_items": null,
            "grid_row": null,
            "max_height": null,
            "align_content": null,
            "visibility": null,
            "align_self": null,
            "height": null,
            "min_height": null,
            "padding": null,
            "grid_auto_rows": null,
            "grid_gap": null,
            "max_width": null,
            "order": null,
            "_view_module_version": "1.2.0",
            "grid_template_areas": null,
            "object_position": null,
            "object_fit": null,
            "grid_auto_columns": null,
            "margin": null,
            "display": null,
            "left": null
          }
        },
        "71996c7058364854a3dc93de3dd647f0": {
          "model_module": "@jupyter-widgets/controls",
          "model_name": "HBoxModel",
          "model_module_version": "1.5.0",
          "state": {
            "_view_name": "HBoxView",
            "_dom_classes": [],
            "_model_name": "HBoxModel",
            "_view_module": "@jupyter-widgets/controls",
            "_model_module_version": "1.5.0",
            "_view_count": null,
            "_view_module_version": "1.5.0",
            "box_style": "",
            "layout": "IPY_MODEL_21e983d444504c10ac49fb058e8f1919",
            "_model_module": "@jupyter-widgets/controls",
            "children": [
              "IPY_MODEL_c56d3e11d30b4d9f925bf85f40a4a716",
              "IPY_MODEL_0ab74931bef94b019f291e01d9bd7643",
              "IPY_MODEL_3639f0e6c7184f88aee1892f1d51df41"
            ]
          }
        },
        "21e983d444504c10ac49fb058e8f1919": {
          "model_module": "@jupyter-widgets/base",
          "model_name": "LayoutModel",
          "model_module_version": "1.2.0",
          "state": {
            "_view_name": "LayoutView",
            "grid_template_rows": null,
            "right": null,
            "justify_content": null,
            "_view_module": "@jupyter-widgets/base",
            "overflow": null,
            "_model_module_version": "1.2.0",
            "_view_count": null,
            "flex_flow": null,
            "width": null,
            "min_width": null,
            "border": null,
            "align_items": null,
            "bottom": null,
            "_model_module": "@jupyter-widgets/base",
            "top": null,
            "grid_column": null,
            "overflow_y": null,
            "overflow_x": null,
            "grid_auto_flow": null,
            "grid_area": null,
            "grid_template_columns": null,
            "flex": null,
            "_model_name": "LayoutModel",
            "justify_items": null,
            "grid_row": null,
            "max_height": null,
            "align_content": null,
            "visibility": null,
            "align_self": null,
            "height": null,
            "min_height": null,
            "padding": null,
            "grid_auto_rows": null,
            "grid_gap": null,
            "max_width": null,
            "order": null,
            "_view_module_version": "1.2.0",
            "grid_template_areas": null,
            "object_position": null,
            "object_fit": null,
            "grid_auto_columns": null,
            "margin": null,
            "display": null,
            "left": null
          }
        },
        "c56d3e11d30b4d9f925bf85f40a4a716": {
          "model_module": "@jupyter-widgets/controls",
          "model_name": "HTMLModel",
          "model_module_version": "1.5.0",
          "state": {
            "_view_name": "HTMLView",
            "style": "IPY_MODEL_536584daff4f405b947bfa90912c51cd",
            "_dom_classes": [],
            "description": "",
            "_model_name": "HTMLModel",
            "placeholder": "​",
            "_view_module": "@jupyter-widgets/controls",
            "_model_module_version": "1.5.0",
            "value": "",
            "_view_count": null,
            "_view_module_version": "1.5.0",
            "description_tooltip": null,
            "_model_module": "@jupyter-widgets/controls",
            "layout": "IPY_MODEL_c001e1f70c2f4816a9edb1d705c2fcee"
          }
        },
        "0ab74931bef94b019f291e01d9bd7643": {
          "model_module": "@jupyter-widgets/controls",
          "model_name": "FloatProgressModel",
          "model_module_version": "1.5.0",
          "state": {
            "_view_name": "ProgressView",
            "style": "IPY_MODEL_8df604e0f2794c7ca8a31e7dca080947",
            "_dom_classes": [],
            "description": "",
            "_model_name": "FloatProgressModel",
            "bar_style": "success",
            "max": 5148,
            "_view_module": "@jupyter-widgets/controls",
            "_model_module_version": "1.5.0",
            "value": 5148,
            "_view_count": null,
            "_view_module_version": "1.5.0",
            "orientation": "horizontal",
            "min": 0,
            "description_tooltip": null,
            "_model_module": "@jupyter-widgets/controls",
            "layout": "IPY_MODEL_7403d482a10a462d90d5d20699f7c1f2"
          }
        },
        "3639f0e6c7184f88aee1892f1d51df41": {
          "model_module": "@jupyter-widgets/controls",
          "model_name": "HTMLModel",
          "model_module_version": "1.5.0",
          "state": {
            "_view_name": "HTMLView",
            "style": "IPY_MODEL_cf97e8ad73a349cdbccd87254e7ef1e6",
            "_dom_classes": [],
            "description": "",
            "_model_name": "HTMLModel",
            "placeholder": "​",
            "_view_module": "@jupyter-widgets/controls",
            "_model_module_version": "1.5.0",
            "value": " 6144/? [00:00&lt;00:00, 107338.85it/s]",
            "_view_count": null,
            "_view_module_version": "1.5.0",
            "description_tooltip": null,
            "_model_module": "@jupyter-widgets/controls",
            "layout": "IPY_MODEL_97bf7f52317f48388fdce6a172e79dc0"
          }
        },
        "536584daff4f405b947bfa90912c51cd": {
          "model_module": "@jupyter-widgets/controls",
          "model_name": "DescriptionStyleModel",
          "model_module_version": "1.5.0",
          "state": {
            "_view_name": "StyleView",
            "_model_name": "DescriptionStyleModel",
            "description_width": "",
            "_view_module": "@jupyter-widgets/base",
            "_model_module_version": "1.5.0",
            "_view_count": null,
            "_view_module_version": "1.2.0",
            "_model_module": "@jupyter-widgets/controls"
          }
        },
        "c001e1f70c2f4816a9edb1d705c2fcee": {
          "model_module": "@jupyter-widgets/base",
          "model_name": "LayoutModel",
          "model_module_version": "1.2.0",
          "state": {
            "_view_name": "LayoutView",
            "grid_template_rows": null,
            "right": null,
            "justify_content": null,
            "_view_module": "@jupyter-widgets/base",
            "overflow": null,
            "_model_module_version": "1.2.0",
            "_view_count": null,
            "flex_flow": null,
            "width": null,
            "min_width": null,
            "border": null,
            "align_items": null,
            "bottom": null,
            "_model_module": "@jupyter-widgets/base",
            "top": null,
            "grid_column": null,
            "overflow_y": null,
            "overflow_x": null,
            "grid_auto_flow": null,
            "grid_area": null,
            "grid_template_columns": null,
            "flex": null,
            "_model_name": "LayoutModel",
            "justify_items": null,
            "grid_row": null,
            "max_height": null,
            "align_content": null,
            "visibility": null,
            "align_self": null,
            "height": null,
            "min_height": null,
            "padding": null,
            "grid_auto_rows": null,
            "grid_gap": null,
            "max_width": null,
            "order": null,
            "_view_module_version": "1.2.0",
            "grid_template_areas": null,
            "object_position": null,
            "object_fit": null,
            "grid_auto_columns": null,
            "margin": null,
            "display": null,
            "left": null
          }
        },
        "8df604e0f2794c7ca8a31e7dca080947": {
          "model_module": "@jupyter-widgets/controls",
          "model_name": "ProgressStyleModel",
          "model_module_version": "1.5.0",
          "state": {
            "_view_name": "StyleView",
            "_model_name": "ProgressStyleModel",
            "description_width": "",
            "_view_module": "@jupyter-widgets/base",
            "_model_module_version": "1.5.0",
            "_view_count": null,
            "_view_module_version": "1.2.0",
            "bar_color": null,
            "_model_module": "@jupyter-widgets/controls"
          }
        },
        "7403d482a10a462d90d5d20699f7c1f2": {
          "model_module": "@jupyter-widgets/base",
          "model_name": "LayoutModel",
          "model_module_version": "1.2.0",
          "state": {
            "_view_name": "LayoutView",
            "grid_template_rows": null,
            "right": null,
            "justify_content": null,
            "_view_module": "@jupyter-widgets/base",
            "overflow": null,
            "_model_module_version": "1.2.0",
            "_view_count": null,
            "flex_flow": null,
            "width": null,
            "min_width": null,
            "border": null,
            "align_items": null,
            "bottom": null,
            "_model_module": "@jupyter-widgets/base",
            "top": null,
            "grid_column": null,
            "overflow_y": null,
            "overflow_x": null,
            "grid_auto_flow": null,
            "grid_area": null,
            "grid_template_columns": null,
            "flex": null,
            "_model_name": "LayoutModel",
            "justify_items": null,
            "grid_row": null,
            "max_height": null,
            "align_content": null,
            "visibility": null,
            "align_self": null,
            "height": null,
            "min_height": null,
            "padding": null,
            "grid_auto_rows": null,
            "grid_gap": null,
            "max_width": null,
            "order": null,
            "_view_module_version": "1.2.0",
            "grid_template_areas": null,
            "object_position": null,
            "object_fit": null,
            "grid_auto_columns": null,
            "margin": null,
            "display": null,
            "left": null
          }
        },
        "cf97e8ad73a349cdbccd87254e7ef1e6": {
          "model_module": "@jupyter-widgets/controls",
          "model_name": "DescriptionStyleModel",
          "model_module_version": "1.5.0",
          "state": {
            "_view_name": "StyleView",
            "_model_name": "DescriptionStyleModel",
            "description_width": "",
            "_view_module": "@jupyter-widgets/base",
            "_model_module_version": "1.5.0",
            "_view_count": null,
            "_view_module_version": "1.2.0",
            "_model_module": "@jupyter-widgets/controls"
          }
        },
        "97bf7f52317f48388fdce6a172e79dc0": {
          "model_module": "@jupyter-widgets/base",
          "model_name": "LayoutModel",
          "model_module_version": "1.2.0",
          "state": {
            "_view_name": "LayoutView",
            "grid_template_rows": null,
            "right": null,
            "justify_content": null,
            "_view_module": "@jupyter-widgets/base",
            "overflow": null,
            "_model_module_version": "1.2.0",
            "_view_count": null,
            "flex_flow": null,
            "width": null,
            "min_width": null,
            "border": null,
            "align_items": null,
            "bottom": null,
            "_model_module": "@jupyter-widgets/base",
            "top": null,
            "grid_column": null,
            "overflow_y": null,
            "overflow_x": null,
            "grid_auto_flow": null,
            "grid_area": null,
            "grid_template_columns": null,
            "flex": null,
            "_model_name": "LayoutModel",
            "justify_items": null,
            "grid_row": null,
            "max_height": null,
            "align_content": null,
            "visibility": null,
            "align_self": null,
            "height": null,
            "min_height": null,
            "padding": null,
            "grid_auto_rows": null,
            "grid_gap": null,
            "max_width": null,
            "order": null,
            "_view_module_version": "1.2.0",
            "grid_template_areas": null,
            "object_position": null,
            "object_fit": null,
            "grid_auto_columns": null,
            "margin": null,
            "display": null,
            "left": null
          }
        }
      }
    },
    "accelerator": "GPU"
  },
  "cells": [
    {
      "cell_type": "markdown",
      "metadata": {
        "id": "view-in-github",
        "colab_type": "text"
      },
      "source": [
        "<a href=\"https://colab.research.google.com/github/Alvarosotom/Redes_Neuronales/blob/main/PyTorch_1_profe.ipynb\" target=\"_parent\"><img src=\"https://colab.research.google.com/assets/colab-badge.svg\" alt=\"Open In Colab\"/></a>"
      ]
    },
    {
      "cell_type": "code",
      "metadata": {
        "id": "AbYxfVzrdgO8"
      },
      "source": [
        "import torch\n",
        "import torch.nn as nn\n",
        "import numpy as np\n",
        "import torchvision\n",
        "import matplotlib.pyplot as plt\n",
        "%matplotlib inline\n",
        "import seaborn as sns\n",
        "import sklearn.model_selection\n"
      ],
      "execution_count": null,
      "outputs": []
    },
    {
      "cell_type": "markdown",
      "metadata": {
        "id": "iLXZK_yDetl4"
      },
      "source": [
        "# PyTorch Basics"
      ]
    },
    {
      "cell_type": "markdown",
      "metadata": {
        "id": "cJgEjqIKF3qP"
      },
      "source": [
        "En PyTorch la unidad basica con la que se trabaja son los tensores. Como se recordara un tensor es una representación más abstracta de los objetos matemáticos que usamos constantemente (i.e. escalares, vectors, matrices). Acontinuación vamos a definir algunos tensores simples."
      ]
    },
    {
      "cell_type": "code",
      "metadata": {
        "colab": {
          "base_uri": "https://localhost:8080/"
        },
        "id": "sxug6hJfb7PK",
        "outputId": "1191e131-1dce-4634-baeb-a0ddf20951cb"
      },
      "source": [
        "# dtype: float (float32), float16, float64 (double) ...\n",
        "a = torch.tensor(1,dtype=torch.float)      #constante\n",
        "b = torch.tensor([2,3],dtype=torch.float)  #vector\n",
        "C = torch.tensor([[4,5],[6,7]]).float()    #matriz\n",
        "print(a)\n",
        "print(b)\n",
        "print(C)"
      ],
      "execution_count": null,
      "outputs": [
        {
          "output_type": "stream",
          "name": "stdout",
          "text": [
            "tensor(1.)\n",
            "tensor([2., 3.])\n",
            "tensor([[4., 5.],\n",
            "        [6., 7.]])\n"
          ]
        }
      ]
    },
    {
      "cell_type": "markdown",
      "metadata": {
        "id": "Gf2GMfFBHxSy"
      },
      "source": [
        "Ahora veamos como realizar algunas operacione entre tensores en PyTorch"
      ]
    },
    {
      "cell_type": "code",
      "metadata": {
        "colab": {
          "base_uri": "https://localhost:8080/"
        },
        "id": "_sIJHwATfzFQ",
        "outputId": "70d2504e-642c-4efa-e66e-b1472dcde9ed"
      },
      "source": [
        "print(a * b)\n",
        "print(a * C)\n",
        "print(C @ b) # Matrix multiplication, in general sum_k A_ij....k B_kpq....r\n",
        "print(C * C) # Element wise multiplication\n",
        "print(C @ C) # Matrix multiplication"
      ],
      "execution_count": null,
      "outputs": [
        {
          "output_type": "stream",
          "name": "stdout",
          "text": [
            "tensor([2., 3.])\n",
            "tensor([[4., 5.],\n",
            "        [6., 7.]])\n",
            "tensor([23., 33.])\n",
            "tensor([[16., 25.],\n",
            "        [36., 49.]])\n",
            "tensor([[46., 55.],\n",
            "        [66., 79.]])\n"
          ]
        }
      ]
    },
    {
      "cell_type": "markdown",
      "metadata": {
        "id": "envZfDzTH9Mn"
      },
      "source": [
        "El corazón de PyTorch es el de poder realizar auto diferenciación (Autograd o Autodiff). Veamos una operación simple y como calcular la derivadas parciales con respecto a cada variable"
      ]
    },
    {
      "cell_type": "code",
      "metadata": {
        "colab": {
          "base_uri": "https://localhost:8080/"
        },
        "id": "xsL9dsGogMsX",
        "outputId": "98a9a189-8b41-4485-af3a-c9cd0f7fbb67"
      },
      "source": [
        "a = torch.tensor(2,dtype=torch.float,requires_grad=True)\n",
        "b = torch.tensor(3).float().requires_grad_(True)\n",
        "c = torch.tensor(4).float().requires_grad_(True)\n",
        "d = a + b * c\n",
        "d.backward()\n",
        "print(a.grad,b.grad,c.grad)"
      ],
      "execution_count": null,
      "outputs": [
        {
          "output_type": "stream",
          "name": "stdout",
          "text": [
            "tensor(1.) tensor(4.) tensor(3.)\n"
          ]
        }
      ]
    },
    {
      "cell_type": "markdown",
      "metadata": {
        "id": "OEs1ibtwIL7G"
      },
      "source": [
        "Veamos ahora un ejemplo un poco mas complicado para poder apreciar el alcance y todo lo que se puede lograr con el Autograd."
      ]
    },
    {
      "cell_type": "code",
      "metadata": {
        "colab": {
          "base_uri": "https://localhost:8080/"
        },
        "id": "ag4ALH3Pgl5P",
        "outputId": "ee9dd617-a507-4900-c06c-bb53a1f359f9"
      },
      "source": [
        "A = torch.tensor([[1,2],[3,4]]).float().requires_grad_(True)\n",
        "det_A = torch.det(A)\n",
        "det_A.backward()\n",
        "print(A)\n",
        "print(det_A)\n",
        "print(A.grad)"
      ],
      "execution_count": null,
      "outputs": [
        {
          "output_type": "stream",
          "name": "stdout",
          "text": [
            "tensor([[1., 2.],\n",
            "        [3., 4.]], requires_grad=True)\n",
            "tensor(-2., grad_fn=<LinalgDetBackward0>)\n",
            "tensor([[ 4., -3.],\n",
            "        [-2.,  1.]])\n"
          ]
        }
      ]
    },
    {
      "cell_type": "markdown",
      "source": [
        "$x_1,x_2,x_3,x_4$ $det(A)=x_1x_4-x_2x_3$"
      ],
      "metadata": {
        "id": "p8DZU_fDsdnd"
      }
    },
    {
      "cell_type": "code",
      "metadata": {
        "colab": {
          "base_uri": "https://localhost:8080/"
        },
        "id": "Z7I8RkzUg_Lr",
        "outputId": "3505a8d8-34bc-4265-d1ad-7be2ee138ae5"
      },
      "source": [
        "inv_A = torch.linalg.inv(A)\n",
        "# Calculemos la derivada del determinante de un matriz con respecto\n",
        "# a los elementos de la matriz original\n",
        "print(inv_A)\n",
        "print(inv_A.T)\n",
        "print(inv_A.T * det_A)"
      ],
      "execution_count": null,
      "outputs": [
        {
          "output_type": "stream",
          "name": "stdout",
          "text": [
            "tensor([[-2.0000,  1.0000],\n",
            "        [ 1.5000, -0.5000]], grad_fn=<LinalgInvExBackward0>)\n",
            "tensor([[-2.0000,  1.5000],\n",
            "        [ 1.0000, -0.5000]], grad_fn=<PermuteBackward0>)\n",
            "tensor([[ 4., -3.],\n",
            "        [-2.,  1.]], grad_fn=<MulBackward0>)\n"
          ]
        }
      ]
    },
    {
      "cell_type": "markdown",
      "metadata": {
        "id": "5EwO1uFUhpZr"
      },
      "source": [
        "# Simple Linear Regression"
      ]
    },
    {
      "cell_type": "markdown",
      "metadata": {
        "id": "LRNW7FhIIjGs"
      },
      "source": [
        "Veamos un caso simple en como aplicar los que hemos aprendido de PyTorch a un problema comun: regresion lineal. Primero creemos algunos datos randoms."
      ]
    },
    {
      "cell_type": "code",
      "metadata": {
        "id": "tK8_VMBBhwHi"
      },
      "source": [
        "N = 100\n",
        "x_data = torch.linspace(0,5,N).float()          #tensor que representa las caracteristicas de entrada\n",
        "y_data = 2 * x_data + 5 + 2*torch.randn(N)      #tensor que representa los valores objetivos"
      ],
      "execution_count": null,
      "outputs": []
    },
    {
      "cell_type": "code",
      "metadata": {
        "colab": {
          "base_uri": "https://localhost:8080/",
          "height": 282
        },
        "id": "LFGBoSn9iVMp",
        "outputId": "66d376e0-ed47-4a10-bd6d-fb2b1afb1114"
      },
      "source": [
        "plt.scatter(x_data,y_data)"
      ],
      "execution_count": null,
      "outputs": [
        {
          "output_type": "execute_result",
          "data": {
            "text/plain": [
              "<matplotlib.collections.PathCollection at 0x7f92c32bbfd0>"
            ]
          },
          "metadata": {},
          "execution_count": 7
        },
        {
          "output_type": "display_data",
          "data": {
            "text/plain": [
              "<Figure size 432x288 with 1 Axes>"
            ],
            "image/png": "[encoded data removed]"
          },
          "metadata": {
            "needs_background": "light"
          }
        }
      ]
    },
    {
      "cell_type": "markdown",
      "metadata": {
        "id": "w7WH-ou3IvXW"
      },
      "source": [
        "Problema: Queremos encontrar la recta que mejor se ajuste a los datos que generamos.\n",
        "\n",
        "Sabemos que nuestra recta tiene 2 parametros: w (pendiente) y b (intercepto). Asi que el problema se centra en encontrar los ***parametros*** optimos que ajustan al ***modelo*** a los datos que tenemos. Para medir que \"tan bien\" se ajusta nuestro modelo a nuestros datos, vamos a necesitar de algun tipo de medida. A esta medida se le conoce como ***función de perdida*** (Loss Function). La función de pérdida más común en regresión es la de \"mean square error loss\", la cual se define acontinuacion.\n",
        "\n",
        "$\\mathcal{L}(ypred,y) = \\frac{1}{n}\\sum_{i=0}^n \\vert ypred_i - y_i \\vert ^ 2$\n",
        "\n",
        "Como se puede ver en esta ecuación, cuanto más se parezca $ypred$ al valor de $y$, la función de perdida se vuelve más pequeña. Entonces el problema se reduce a un problema de minimización.\n",
        "\n",
        "Utilizemos el método del gradient descent para poder encontrar los parámetros de la recta que se adecua mejor a nuestros datos."
      ]
    },
    {
      "cell_type": "code",
      "metadata": {
        "colab": {
          "base_uri": "https://localhost:8080/"
        },
        "id": "tTO0dw4virGe",
        "outputId": "65bd6039-e9d8-4717-d138-12b5bd5fb2e1"
      },
      "source": [
        "# Definimos los parametros de nuestro modelo\n",
        "w = torch.tensor(1).float().requires_grad_(True)  #Definimos w como la \"pendiente\", se inicializa con valor de 1\n",
        "b = torch.tensor(1).float().requires_grad_(True)  #Definimos b como la \"ordenada del origen\", se inicializa con valor de 1\n",
        "                                                  #requires_grad en True: PyTorch gradientes con respecto a estos parámetros\n",
        "# Learning rate(tasa de aprendisaje)\n",
        "lr = 0.1\n",
        "\n",
        "for epoch in range(100):            #Bucle de entrenamiento de 100 epocas\n",
        "  # Hacemos una prediccion con los valores de los parametros actuales 'w' y 'b'\n",
        "  y_pred = w * x_data + b\n",
        "  # Calculamos la perdida (loss function) entre las predicciones (y_pred) y los valores reales (y_data).\n",
        "  loss = torch.mean((y_pred - y_data)**2)\n",
        "  # Realizamos el backpropagation para la calcular la gradiente\n",
        "  # del loss function con respecto a cada variable (w y b).\n",
        "  loss.backward()    #llamada de pytorch para calcular la gradiente través de la retropropagación automática (autograd)\n",
        "  if epoch % 10 == 0:        #verifica si el número de época es divisible por 10 sin dejar un residuo.\n",
        "      #Es común imprimir información(de depuración o de seguimiento), como la pérdida, solo cada cierto número de\n",
        "      #épocas (en este caso, cada 10 épocas) en lugar de imprimir información en cada época.\n",
        "    print(f\"epoch: {epoch}, loss: {loss.item()}\")\n",
        "  # Actualizamos los parametros siguiendo la direccion\n",
        "  # contraria del gradiente\n",
        "  w.data = w.data - lr * w.grad   #Formula de actualización de los pesos\n",
        "  b.data = b.data - lr * b.grad   #actualiza el valor del parámetro b (ordenada al origen)\n",
        "  w.grad.zero_()\n",
        "  b.grad.zero_()\n",
        "print(w,b)"
      ],
      "execution_count": null,
      "outputs": [
        {
          "output_type": "stream",
          "name": "stdout",
          "text": [
            "epoch: 0, loss: 47.761104583740234\n",
            "epoch: 10, loss: 6.626482963562012\n",
            "epoch: 20, loss: 4.740452766418457\n",
            "epoch: 30, loss: 4.338134765625\n",
            "epoch: 40, loss: 4.190454483032227\n",
            "epoch: 50, loss: 4.133640766143799\n",
            "epoch: 60, loss: 4.111720085144043\n",
            "epoch: 70, loss: 4.1032609939575195\n",
            "epoch: 80, loss: 4.099996566772461\n",
            "epoch: 90, loss: 4.0987372398376465\n",
            "tensor(1.7543, requires_grad=True) tensor(5.6245, requires_grad=True)\n"
          ]
        }
      ]
    },
    {
      "cell_type": "markdown",
      "source": [
        "Realicemos lo mismo pero utilizando algunas de las herramientas que nos da PyTorch"
      ],
      "metadata": {
        "id": "kRL9SWLeS2av"
      }
    },
    {
      "cell_type": "code",
      "metadata": {
        "colab": {
          "base_uri": "https://localhost:8080/"
        },
        "id": "i5HZVps1jicb",
        "outputId": "e1a3f088-d177-49c0-b4a2-a3de5f043ece"
      },
      "source": [
        "# Definimos los parametros: w y b\n",
        "linear_model = nn.Linear(1,1)             #Definimos un modelo de regresion lineal, (1,1) de una entrada y una salida\n",
        "# Veamos los parámetros de nuestro modelo\n",
        "for param in linear_model.parameters():\n",
        "  print(param)\n",
        "\n",
        "# Definimos nuestra funcion de perdida\n",
        "crit = nn.MSELoss()\n",
        "\n",
        "# Definimos nuestro optimizador\n",
        "# en otras palabras, la forma en la que actualizaremos nuestros parámetros\n",
        "# w.data = w.data - lr * w.grad\n",
        "# b.data = b.data - lr * b.grad\n",
        "optim = torch.optim.SGD(linear_model.parameters(),lr=0.1)  #obtimizador que se usara descenso de gradiente estocástico (SGD)\n",
        "                                                            #Se establece la tasa de aprendisaje en \"0.1\"\n",
        "                                                            # Se pasa linear_model.parameters() para especificar que el optimizador debe actualizar los parámetros del modelo\n",
        "\n",
        "# Preparamos nuestros datos\n",
        "x = x_data.reshape(-1,1)\n",
        "y = y_data.reshape(-1,1)\n",
        "\n",
        "for epoch in range(100):\n",
        "  # Volvemos todas las gradientes zero para evitar acumulación de gradientes\n",
        "  optim.zero_grad()\n",
        "  # Hacemos una predicción con los valores actuales de los parámetros\n",
        "  y_pred = linear_model(x)\n",
        "  # Calculamos la perdida\n",
        "  loss = crit(y_pred, y)\n",
        "  if epoch % 10 == 0:\n",
        "    print(f\"epoch: {epoch}, loss: {loss.item()}\")\n",
        "  # Realizamos el backpropagation\n",
        "  loss.backward()\n",
        "  # Actualizamos los parametros\n",
        "  optim.step()\n"
      ],
      "execution_count": null,
      "outputs": [
        {
          "output_type": "stream",
          "name": "stdout",
          "text": [
            "Parameter containing:\n",
            "tensor([[0.3437]], requires_grad=True)\n",
            "Parameter containing:\n",
            "tensor([-0.8482], requires_grad=True)\n",
            "epoch: 0, loss: 108.40632629394531\n",
            "epoch: 10, loss: 9.370863914489746\n",
            "epoch: 20, loss: 5.3187761306762695\n",
            "epoch: 30, loss: 4.550124645233154\n",
            "epoch: 40, loss: 4.272001266479492\n",
            "epoch: 50, loss: 4.165103912353516\n",
            "epoch: 60, loss: 4.123861312866211\n",
            "epoch: 70, loss: 4.107946395874023\n",
            "epoch: 80, loss: 4.101805210113525\n",
            "epoch: 90, loss: 4.0994343757629395\n"
          ]
        }
      ]
    },
    {
      "cell_type": "markdown",
      "metadata": {
        "id": "vRK4RisUjhSi"
      },
      "source": [
        "# Multi Layer Perceptron"
      ]
    },
    {
      "cell_type": "markdown",
      "source": [
        "Ahora veamos un modelo un poco más complicado que un simple modelo lineal. Un MultiLayer Perceptron básicamente consiste en un sequencia de multiplicaciones matriciales"
      ],
      "metadata": {
        "id": "OuEX69qlUDMV"
      }
    },
    {
      "cell_type": "code",
      "metadata": {
        "id": "7dD47xtLdtVA",
        "colab": {
          "base_uri": "https://localhost:8080/"
        },
        "outputId": "112f5fa2-8321-4a64-9bf5-378a3f617285"
      },
      "source": [
        "mnist_train_ds = torchvision.datasets.MNIST(\"./\",download=True,train=True,transform=torchvision.transforms.ToTensor())\n",
        "mnist_test_ds = torchvision.datasets.MNIST(\"./\",download=True,train=False,transform=torchvision.transforms.ToTensor())"
      ],
      "execution_count": null,
      "outputs": [
        {
          "output_type": "stream",
          "name": "stdout",
          "text": [
            "Downloading http://yann.lecun.com/exdb/mnist/train-images-idx3-ubyte.gz\n",
            "Downloading http://yann.lecun.com/exdb/mnist/train-images-idx3-ubyte.gz to ./MNIST/raw/train-images-idx3-ubyte.gz\n"
          ]
        },
        {
          "output_type": "stream",
          "name": "stderr",
          "text": [
            "100%|██████████| 9912422/9912422 [00:00<00:00, 87141090.16it/s]\n"
          ]
        },
        {
          "output_type": "stream",
          "name": "stdout",
          "text": [
            "Extracting ./MNIST/raw/train-images-idx3-ubyte.gz to ./MNIST/raw\n",
            "\n",
            "Downloading http://yann.lecun.com/exdb/mnist/train-labels-idx1-ubyte.gz\n",
            "Downloading http://yann.lecun.com/exdb/mnist/train-labels-idx1-ubyte.gz to ./MNIST/raw/train-labels-idx1-ubyte.gz\n"
          ]
        },
        {
          "output_type": "stream",
          "name": "stderr",
          "text": [
            "100%|██████████| 28881/28881 [00:00<00:00, 23567255.61it/s]\n"
          ]
        },
        {
          "output_type": "stream",
          "name": "stdout",
          "text": [
            "Extracting ./MNIST/raw/train-labels-idx1-ubyte.gz to ./MNIST/raw\n",
            "\n",
            "Downloading http://yann.lecun.com/exdb/mnist/t10k-images-idx3-ubyte.gz\n",
            "Downloading http://yann.lecun.com/exdb/mnist/t10k-images-idx3-ubyte.gz to ./MNIST/raw/t10k-images-idx3-ubyte.gz\n"
          ]
        },
        {
          "output_type": "stream",
          "name": "stderr",
          "text": [
            "100%|██████████| 1648877/1648877 [00:00<00:00, 19697109.17it/s]\n"
          ]
        },
        {
          "output_type": "stream",
          "name": "stdout",
          "text": [
            "Extracting ./MNIST/raw/t10k-images-idx3-ubyte.gz to ./MNIST/raw\n",
            "\n",
            "Downloading http://yann.lecun.com/exdb/mnist/t10k-labels-idx1-ubyte.gz\n",
            "Downloading http://yann.lecun.com/exdb/mnist/t10k-labels-idx1-ubyte.gz to ./MNIST/raw/t10k-labels-idx1-ubyte.gz\n"
          ]
        },
        {
          "output_type": "stream",
          "name": "stderr",
          "text": [
            "100%|██████████| 4542/4542 [00:00<00:00, 17178114.31it/s]\n"
          ]
        },
        {
          "output_type": "stream",
          "name": "stdout",
          "text": [
            "Extracting ./MNIST/raw/t10k-labels-idx1-ubyte.gz to ./MNIST/raw\n",
            "\n"
          ]
        }
      ]
    },
    {
      "cell_type": "markdown",
      "source": [
        "Veamos la forma de la data en MNIST"
      ],
      "metadata": {
        "id": "VVeHWy-2T5yI"
      }
    },
    {
      "cell_type": "code",
      "source": [
        "print(\"Total cantidad de datos en MNIST: \",len(mnist_train_ds))\n",
        "x, y = next(iter(mnist_train_ds))\n",
        "print(y)\n",
        "print(x.shape)"
      ],
      "metadata": {
        "colab": {
          "base_uri": "https://localhost:8080/"
        },
        "id": "gHOUp3TcVSRF",
        "outputId": "8828f889-8d16-4172-a584-fb42e71a1628"
      },
      "execution_count": null,
      "outputs": [
        {
          "output_type": "stream",
          "name": "stdout",
          "text": [
            "Total cantidad de datos en MNIST:  60000\n",
            "5\n",
            "torch.Size([1, 28, 28])\n"
          ]
        }
      ]
    },
    {
      "cell_type": "code",
      "source": [
        "plt.imshow(x.reshape(28,28).numpy(),cmap=\"gray\")"
      ],
      "metadata": {
        "colab": {
          "base_uri": "https://localhost:8080/",
          "height": 282
        },
        "id": "enkfWtU2VaDM",
        "outputId": "8c726038-bc4f-41a2-9df0-c4fb05cc45cd"
      },
      "execution_count": null,
      "outputs": [
        {
          "output_type": "execute_result",
          "data": {
            "text/plain": [
              "<matplotlib.image.AxesImage at 0x7f92c2d8ad10>"
            ]
          },
          "metadata": {},
          "execution_count": 12
        },
        {
          "output_type": "display_data",
          "data": {
            "text/plain": [
              "<Figure size 432x288 with 1 Axes>"
            ],
            "image/png": "[encoded data removed]"
          },
          "metadata": {
            "needs_background": "light"
          }
        }
      ]
    },
    {
      "cell_type": "markdown",
      "source": [
        "Cuando entrenamos redes neuronales, es prácticamente imposible utilizar todos los datos ya que no tenemos suficiente memoria (RAM memory). Por lo que se acostumbra entrenar utilizando \"lotes\" o \"batches\" más pequeños, lo cual tambien trae beneficios en la precision alcanzada por la red."
      ],
      "metadata": {
        "id": "Lu3TDf_KUAjB"
      }
    },
    {
      "cell_type": "code",
      "metadata": {
        "id": "DOGcN1TddFeQ"
      },
      "source": [
        "mnist_train_loader = torch.utils.data.DataLoader(mnist_train_ds,batch_size=128)\n",
        "mnist_test_loader = torch.utils.data.DataLoader(mnist_test_ds,batch_size=128)"
      ],
      "execution_count": null,
      "outputs": []
    },
    {
      "cell_type": "code",
      "source": [
        "for x, y in mnist_train_loader:\n",
        "  print(x.shape, y.shape)\n",
        "  break"
      ],
      "metadata": {
        "colab": {
          "base_uri": "https://localhost:8080/"
        },
        "id": "zoX4zIS7VF0d",
        "outputId": "0d86e230-0bf2-46d6-d048-98a0a60b01b2"
      },
      "execution_count": null,
      "outputs": [
        {
          "output_type": "stream",
          "name": "stdout",
          "text": [
            "torch.Size([128, 1, 28, 28]) torch.Size([128])\n"
          ]
        }
      ]
    },
    {
      "cell_type": "markdown",
      "source": [
        "Otro de los beneficios que nos provee PyTorch es el de poder usar el poder computacional de las tarjetas gráficas (GPU)."
      ],
      "metadata": {
        "id": "7m-4a4FwVK0u"
      }
    },
    {
      "cell_type": "code",
      "metadata": {
        "id": "JWXfkfAzcNep"
      },
      "source": [
        "dev = torch.device(\"cuda:0\" if torch.cuda.is_available() else \"cpu\")"
      ],
      "execution_count": null,
      "outputs": []
    },
    {
      "cell_type": "code",
      "source": [
        "x = torch.rand(3,3)\n",
        "print(x)"
      ],
      "metadata": {
        "colab": {
          "base_uri": "https://localhost:8080/"
        },
        "id": "MOzgGdKDVoZv",
        "outputId": "992c59b4-10bd-4366-8fad-2d585a906422"
      },
      "execution_count": null,
      "outputs": [
        {
          "output_type": "stream",
          "name": "stdout",
          "text": [
            "tensor([[0.3375, 0.7773, 0.1842],\n",
            "        [0.0577, 0.1213, 0.1682],\n",
            "        [0.5824, 0.1145, 0.5992]])\n"
          ]
        }
      ]
    },
    {
      "cell_type": "code",
      "source": [
        "# y = torch.rand(3,3,device=dev)\n",
        "y = torch.rand(3,3).to(dev)\n",
        "print(y)"
      ],
      "metadata": {
        "colab": {
          "base_uri": "https://localhost:8080/"
        },
        "id": "NHppP_ysVroI",
        "outputId": "db0b4152-f2d9-4bd1-fed9-1d3206f5bdd0"
      },
      "execution_count": null,
      "outputs": [
        {
          "output_type": "stream",
          "name": "stdout",
          "text": [
            "tensor([[0.0478, 0.2014, 0.0771],\n",
            "        [0.2847, 0.6757, 0.7370],\n",
            "        [0.9861, 0.4021, 0.5567]], device='cuda:0')\n"
          ]
        }
      ]
    },
    {
      "cell_type": "markdown",
      "source": [
        "Ahora definamos nuestro modelo."
      ],
      "metadata": {
        "id": "EJwkdoNcV7Wx"
      }
    },
    {
      "cell_type": "code",
      "metadata": {
        "id": "WYIXsm2Vbvg_"
      },
      "source": [
        "model = nn.Sequential(\n",
        "    nn.Flatten(),\n",
        "    nn.Linear(784,256),\n",
        "    nn.ReLU(inplace=True),\n",
        "    nn.Linear(256,256),\n",
        "    nn.ReLU(inplace=True),\n",
        "    nn.Linear(256,10)\n",
        ").to(dev)"
      ],
      "execution_count": null,
      "outputs": []
    },
    {
      "cell_type": "markdown",
      "source": [
        "Definamos nuestro loss function y el optimizador que será usado en el entrenamiento"
      ],
      "metadata": {
        "id": "UYQjb_5wWAyt"
      }
    },
    {
      "cell_type": "code",
      "metadata": {
        "id": "4cpz8rqscdU8"
      },
      "source": [
        "crit = nn.CrossEntropyLoss()  #funcion de error (como el error cuadratico medio)\n",
        "optim = torch.optim.Adam(model.parameters(),lr=0.01)   #optimizaor taza de aprendisaje de 0.001 (ejeplo: gradiente estocastico)"
      ],
      "execution_count": null,
      "outputs": []
    },
    {
      "cell_type": "markdown",
      "source": [
        "Pongamos el algoritmo de entrenamiento anteriormente usado dentro de una función."
      ],
      "metadata": {
        "id": "Jw3z1L24W0g4"
      }
    },
    {
      "cell_type": "code",
      "metadata": {
        "id": "isyKfv5tdPmS"
      },
      "source": [
        "def evaluate(model, loader, crit):   #funcion en python es def.\n",
        "  model.eval()\n",
        "  total = 0\n",
        "  corrects = 0\n",
        "  avg_loss = 0\n",
        "  for x, y in loader:\n",
        "    x = x.to(dev)\n",
        "    y = y.to(dev)\n",
        "    o = model(x)\n",
        "    loss = crit(o,y)\n",
        "    avg_loss += loss.item()\n",
        "    corrects += torch.sum(torch.argmax(o,axis=1) == y).item()  #cuantas predicciones\n",
        "    total += len(y)                                             #contador\n",
        "  acc = 100* corrects / total\n",
        "  avg_loss /= len(loader)\n",
        "  return avg_loss, acc\n",
        "\n",
        "def train_one_epoch(model, train_loader, crit, optim):   #para un rango de epocas\n",
        "  model.train()\n",
        "  total = 0\n",
        "  corrects = 0\n",
        "  avg_loss = 0\n",
        "  for x, y in train_loader:\n",
        "    optim.zero_grad()\n",
        "    x = x.to(dev)\n",
        "    y = y.to(dev)\n",
        "    o = model(x)\n",
        "    loss = crit(o,y)\n",
        "    avg_loss += loss.item()\n",
        "    loss.backward()\n",
        "    optim.step()\n",
        "    corrects += torch.sum(torch.argmax(o,axis=1) == y).item()\n",
        "    total += len(y)\n",
        "  acc = 100 * corrects / total\n",
        "  avg_loss /= len(train_loader)\n",
        "  return avg_loss, acc\n",
        "\n",
        "def train(model, train_loader, test_loader, crit, optim, epochs = 5):\n",
        "  for epoch in range(epochs):\n",
        "    train_loss, train_acc = train_one_epoch(model, train_loader,crit, optim)\n",
        "    test_loss, test_acc = evaluate(model, test_loader, crit)\n",
        "    print(f\"epoch: {epoch}, train loss: {train_loss}, train acc: {train_acc}%, test loss: {test_loss}, test acc: {test_acc}%\")"
      ],
      "execution_count": null,
      "outputs": []
    },
    {
      "cell_type": "markdown",
      "source": [
        "Entrenemos nuestro modelo!"
      ],
      "metadata": {
        "id": "o4LmyXztXyib"
      }
    },
    {
      "cell_type": "code",
      "metadata": {
        "colab": {
          "base_uri": "https://localhost:8080/"
        },
        "id": "_rBaj3cucU0z",
        "outputId": "ec59cb6d-7be6-4f96-ca2d-6dcb50ee78b5"
      },
      "source": [
        "EPOCHS = 5\n",
        "train(model,mnist_train_loader,mnist_test_loader,crit,optim,epochs=EPOCHS)"
      ],
      "execution_count": null,
      "outputs": [
        {
          "output_type": "stream",
          "name": "stdout",
          "text": [
            "epoch: 0, train loss: 0.2675590215745801, train acc: 92.06%, test loss: 0.19692874268946958, test acc: 94.75%\n",
            "epoch: 1, train loss: 0.14624805872523183, train acc: 95.755%, test loss: 0.19643989340932685, test acc: 94.52%\n",
            "epoch: 2, train loss: 0.1312651656595851, train acc: 96.375%, test loss: 0.13765761099370413, test acc: 96.3%\n",
            "epoch: 3, train loss: 0.10655850170404593, train acc: 97.09666666666666%, test loss: 0.14726433510556108, test acc: 96.65%\n",
            "epoch: 4, train loss: 0.09324773003770186, train acc: 97.38833333333334%, test loss: 0.1475171396681778, test acc: 96.88%\n"
          ]
        }
      ]
    },
    {
      "cell_type": "markdown",
      "source": [
        "Vizualicemos algunas de las predicciones"
      ],
      "metadata": {
        "id": "KKdLDlGCX4Y2"
      }
    },
    {
      "cell_type": "code",
      "source": [
        "N = 6\n",
        "fig, axs = plt.subplots(1,N,figsize=(16,8))\n",
        "for i,(x, y) in enumerate(iter(mnist_test_ds)):\n",
        "  if i == N:\n",
        "    break\n",
        "  x = x.reshape(1,1,28,28).to(dev)\n",
        "  ypred = model(x)\n",
        "  axs[i].imshow(x.cpu().reshape(28,28).numpy())\n",
        "  axs[i].set_title(f\"El model predice: {torch.argmax(ypred)}\")"
      ],
      "metadata": {
        "colab": {
          "base_uri": "https://localhost:8080/",
          "height": 260
        },
        "id": "Rj7fyuU9V5Ez",
        "outputId": "331ce871-00d6-49e7-8e8a-4c06bd3aec1c"
      },
      "execution_count": null,
      "outputs": [
        {
          "output_type": "display_data",
          "data": {
            "text/plain": [
              "<Figure size 1600x800 with 6 Axes>"
            ],
            "image/png": "[encoded data removed]"
          },
          "metadata": {}
        }
      ]
    },
    {
      "cell_type": "markdown",
      "source": [
        "Ahora repitamos lo mismo con un dataset similar! El FashionMNIST"
      ],
      "metadata": {
        "id": "y1BYhXcBYA87"
      }
    },
    {
      "cell_type": "code",
      "source": [
        "fashion_mnist_train_ds = torchvision.datasets.FashionMNIST(\"./\",download=True,train=True,transform=torchvision.transforms.ToTensor())\n",
        "fashion_mnist_test_ds = torchvision.datasets.FashionMNIST(\"./\",download=True,train=False,transform=torchvision.transforms.ToTensor())"
      ],
      "metadata": {
        "id": "K4cs6fY8Vira",
        "colab": {
          "base_uri": "https://localhost:8080/",
          "height": 443,
          "referenced_widgets": [
            "2bb6ef165a044a1f92c37b7a7af2c30c",
            "d29b8f7776a14bdeb82046836d253bf6",
            "dfa01bf55c384b17b04c7a93fadbfe85",
            "4f87dab5b74e4f65b03e01a7fb8ab0a3",
            "babc80a073894a7ba109ba4d14f08ba7",
            "0043ed8f52e64895975c7d856ca9d907",
            "cf57512ee7f74219bf409a658aa1d69e",
            "a7a89ca82a0543b29753c826b9927263",
            "9d79719ece9849dfa363737360dd24d3",
            "cb3c42adf26f4ad2b62b697c0349a882",
            "fad37e7dc3d342bba4f05c5047b1eda3",
            "d73486be8280470f87d901918cbef0c8",
            "a9f1c92542484bd48472d3a657640f52",
            "1440ec98051f4ccab4a402792a16876c",
            "d854055cc59642649bc3ad7c34043d0b",
            "98ce937334a44555b8ff1a356bf0f9f0",
            "c94ccd785de547839dad254619b6ad32",
            "65d25551a18a4244926e790d22c376af",
            "1a7d9afbb4314fd487b0f5d75f844cdb",
            "975b0b8cbe4143d88c8149470c365094",
            "ea1e3c36b3de4451a93bf8d810888c63",
            "6057790f2a0f4c32ae1d259bcdd65b33",
            "917c944064a84b6191c04760d1100db5",
            "a7182e0b66294556891f25dd4a5d3f43",
            "55a6638eb742484fa79783a34428a45d",
            "f8472267a37e4ca8936872df2f61f461",
            "d2cf39304ab94e20ac324e8b711cdbed",
            "68326bf9e6cb42bb8bf509fc3e014d30",
            "ffef6a03b4124b4b82120e813e2140cc",
            "cce34d40b1b5417a9b76c84d2b9f118e",
            "21fb52b5418147f2b84de02037014b2f",
            "7acd3e15224e4557a23c430c672d8b2d",
            "730b915cc0924f00989a0c10720492c2",
            "71996c7058364854a3dc93de3dd647f0",
            "21e983d444504c10ac49fb058e8f1919",
            "c56d3e11d30b4d9f925bf85f40a4a716",
            "0ab74931bef94b019f291e01d9bd7643",
            "3639f0e6c7184f88aee1892f1d51df41",
            "536584daff4f405b947bfa90912c51cd",
            "c001e1f70c2f4816a9edb1d705c2fcee",
            "8df604e0f2794c7ca8a31e7dca080947",
            "7403d482a10a462d90d5d20699f7c1f2",
            "cf97e8ad73a349cdbccd87254e7ef1e6",
            "97bf7f52317f48388fdce6a172e79dc0"
          ]
        },
        "outputId": "caf6129d-a4c9-45bd-fb51-7d9bf783877a"
      },
      "execution_count": null,
      "outputs": [
        {
          "output_type": "stream",
          "name": "stdout",
          "text": [
            "Downloading http://fashion-mnist.s3-website.eu-central-1.amazonaws.com/train-images-idx3-ubyte.gz\n",
            "Downloading http://fashion-mnist.s3-website.eu-central-1.amazonaws.com/train-images-idx3-ubyte.gz to ./FashionMNIST/raw/train-images-idx3-ubyte.gz\n"
          ]
        },
        {
          "output_type": "display_data",
          "data": {
            "application/vnd.jupyter.widget-view+json": {
              "model_id": "2bb6ef165a044a1f92c37b7a7af2c30c",
              "version_minor": 0,
              "version_major": 2
            },
            "text/plain": [
              "  0%|          | 0/26421880 [00:00<?, ?it/s]"
            ]
          },
          "metadata": {}
        },
        {
          "output_type": "stream",
          "name": "stdout",
          "text": [
            "Extracting ./FashionMNIST/raw/train-images-idx3-ubyte.gz to ./FashionMNIST/raw\n",
            "\n",
            "Downloading http://fashion-mnist.s3-website.eu-central-1.amazonaws.com/train-labels-idx1-ubyte.gz\n",
            "Downloading http://fashion-mnist.s3-website.eu-central-1.amazonaws.com/train-labels-idx1-ubyte.gz to ./FashionMNIST/raw/train-labels-idx1-ubyte.gz\n"
          ]
        },
        {
          "output_type": "display_data",
          "data": {
            "application/vnd.jupyter.widget-view+json": {
              "model_id": "d73486be8280470f87d901918cbef0c8",
              "version_minor": 0,
              "version_major": 2
            },
            "text/plain": [
              "  0%|          | 0/29515 [00:00<?, ?it/s]"
            ]
          },
          "metadata": {}
        },
        {
          "output_type": "stream",
          "name": "stdout",
          "text": [
            "Extracting ./FashionMNIST/raw/train-labels-idx1-ubyte.gz to ./FashionMNIST/raw\n",
            "\n",
            "Downloading http://fashion-mnist.s3-website.eu-central-1.amazonaws.com/t10k-images-idx3-ubyte.gz\n",
            "Downloading http://fashion-mnist.s3-website.eu-central-1.amazonaws.com/t10k-images-idx3-ubyte.gz to ./FashionMNIST/raw/t10k-images-idx3-ubyte.gz\n"
          ]
        },
        {
          "output_type": "display_data",
          "data": {
            "application/vnd.jupyter.widget-view+json": {
              "model_id": "917c944064a84b6191c04760d1100db5",
              "version_minor": 0,
              "version_major": 2
            },
            "text/plain": [
              "  0%|          | 0/4422102 [00:00<?, ?it/s]"
            ]
          },
          "metadata": {}
        },
        {
          "output_type": "stream",
          "name": "stdout",
          "text": [
            "Extracting ./FashionMNIST/raw/t10k-images-idx3-ubyte.gz to ./FashionMNIST/raw\n",
            "\n",
            "Downloading http://fashion-mnist.s3-website.eu-central-1.amazonaws.com/t10k-labels-idx1-ubyte.gz\n",
            "Downloading http://fashion-mnist.s3-website.eu-central-1.amazonaws.com/t10k-labels-idx1-ubyte.gz to ./FashionMNIST/raw/t10k-labels-idx1-ubyte.gz\n"
          ]
        },
        {
          "output_type": "display_data",
          "data": {
            "application/vnd.jupyter.widget-view+json": {
              "model_id": "71996c7058364854a3dc93de3dd647f0",
              "version_minor": 0,
              "version_major": 2
            },
            "text/plain": [
              "  0%|          | 0/5148 [00:00<?, ?it/s]"
            ]
          },
          "metadata": {}
        },
        {
          "output_type": "stream",
          "name": "stdout",
          "text": [
            "Extracting ./FashionMNIST/raw/t10k-labels-idx1-ubyte.gz to ./FashionMNIST/raw\n",
            "\n"
          ]
        }
      ]
    },
    {
      "cell_type": "code",
      "source": [
        "labels = [\"T-shirt/top\",\"Trouser\",\"Pullover\",\"Dress\",\"Coat\",\"Sandal\",\"Shirt\",\"Sneaker\",\"Bag\",\"Ankle boot\"]"
      ],
      "metadata": {
        "id": "-EFdi4RTatrz"
      },
      "execution_count": null,
      "outputs": []
    },
    {
      "cell_type": "code",
      "source": [
        "N = 5\n",
        "fig, axs = plt.subplots(1,N,figsize=(16,8))\n",
        "for i, (x,y) in enumerate(fashion_mnist_train_ds):\n",
        "  if i == N:\n",
        "    break\n",
        "  axs[i].imshow(x.reshape(28,28).numpy())\n",
        "  axs[i].set_title(labels[y])"
      ],
      "metadata": {
        "colab": {
          "base_uri": "https://localhost:8080/",
          "height": 218
        },
        "id": "0f77agehXLYK",
        "outputId": "8a9590db-aac1-4a63-9199-fc5cb7ff53c9"
      },
      "execution_count": null,
      "outputs": [
        {
          "output_type": "display_data",
          "data": {
            "image/png": "[encoded data removed]",
            "text/plain": [
              "<Figure size 1152x576 with 5 Axes>"
            ]
          },
          "metadata": {
            "needs_background": "light"
          }
        }
      ]
    },
    {
      "cell_type": "code",
      "source": [
        "fashion_mnist_train_dl = torch.utils.data.DataLoader(fashion_mnist_train_ds,batch_size=128)\n",
        "fashion_mnist_test_dl = torch.utils.data.DataLoader(fashion_mnist_test_ds,batch_size=128)"
      ],
      "metadata": {
        "id": "_BXvKysUX8yB"
      },
      "execution_count": null,
      "outputs": []
    },
    {
      "cell_type": "code",
      "source": [
        "fashion_model = nn.Sequential(\n",
        "    nn.Flatten(),\n",
        "    nn.Linear(784,256),\n",
        "    nn.ReLU(inplace=True),\n",
        "    nn.Linear(256,10)\n",
        ").to(dev)"
      ],
      "metadata": {
        "id": "AMbf2AYwYRH3"
      },
      "execution_count": null,
      "outputs": []
    },
    {
      "cell_type": "code",
      "source": [
        "crit = nn.CrossEntropyLoss()\n",
        "optim = torch.optim.SGD(fashion_model.parameters(),lr=0.01)\n",
        "train(fashion_model,fashion_mnist_train_dl,fashion_mnist_test_dl,crit,optim,epochs=10)"
      ],
      "metadata": {
        "colab": {
          "base_uri": "https://localhost:8080/"
        },
        "id": "mB78Mt2LYx3a",
        "outputId": "151187a6-cdcf-4e7d-8104-0334db8a514a"
      },
      "execution_count": null,
      "outputs": [
        {
          "output_type": "stream",
          "name": "stdout",
          "text": [
            "epoch: 0, train loss: 1.4045063414807513, train acc: 61.306666666666665%, test loss: 0.9432753090617023, test acc: 67.72\n",
            "epoch: 1, train loss: 0.8176697116416655, train acc: 72.17666666666666%, test loss: 0.7515628375584567, test acc: 73.48\n",
            "epoch: 2, train loss: 0.6928872312309899, train acc: 76.675%, test loss: 0.6684970965113821, test acc: 77.03\n",
            "epoch: 3, train loss: 0.6263319012452798, train acc: 79.27%, test loss: 0.6177784193165695, test acc: 78.97\n",
            "epoch: 4, train loss: 0.5832778273869171, train acc: 80.58666666666667%, test loss: 0.5842126317416565, test acc: 80.06\n",
            "epoch: 5, train loss: 0.5533864711012159, train acc: 81.51666666666667%, test loss: 0.5604930927481833, test acc: 81.04\n",
            "epoch: 6, train loss: 0.5313659189606527, train acc: 82.14166666666667%, test loss: 0.5427789714517472, test acc: 81.46\n",
            "epoch: 7, train loss: 0.5143599782162892, train acc: 82.64833333333333%, test loss: 0.5289633911621722, test acc: 81.73\n",
            "epoch: 8, train loss: 0.5007186240351784, train acc: 82.975%, test loss: 0.5178309773342519, test acc: 82.06\n",
            "epoch: 9, train loss: 0.4894341922390944, train acc: 83.3%, test loss: 0.5085567684867714, test acc: 82.35\n"
          ]
        }
      ]
    },
    {
      "cell_type": "code",
      "source": [
        "N = 5\n",
        "fig, axs = plt.subplots(1,N,figsize=(16,8))\n",
        "for i, (x, y) in enumerate(fashion_mnist_test_ds):\n",
        "  if i == N:\n",
        "    break\n",
        "  x = x.reshape(1,1,28,28).to(dev)\n",
        "  ypred = fashion_model(x)\n",
        "  axs[i].imshow(x.cpu().reshape(28,28).numpy())\n",
        "  axs[i].set_title(f\"El modelo predice: {labels[torch.argmax(ypred)]}\")"
      ],
      "metadata": {
        "colab": {
          "base_uri": "https://localhost:8080/",
          "height": 218
        },
        "id": "pP9DITPeY939",
        "outputId": "57b94c02-039c-4d32-f0c4-dfe38bb7df19"
      },
      "execution_count": null,
      "outputs": [
        {
          "output_type": "display_data",
          "data": {
            "image/png": "[encoded data removed]",
            "text/plain": [
              "<Figure size 1152x576 with 5 Axes>"
            ]
          },
          "metadata": {
            "needs_background": "light"
          }
        }
      ]
    },
    {
      "cell_type": "markdown",
      "source": [
        "Ahora veremos un ejemplo de algoritmo Backpropagation en MLP. Primero preparamos la data:"
      ],
      "metadata": {
        "id": "NWvEeR-goz2V"
      }
    },
    {
      "cell_type": "code",
      "source": [
        "iris = sns.load_dataset(\"iris\")\n",
        "#g = sns.pairplot(iris, hue=\"species\")\n",
        "df = iris[iris.species != \"setosa\"]\n",
        "g = sns.pairplot(df, hue=\"species\")\n",
        "df['species_n'] = iris.species.map({'versicolor':1, 'virginica':2})\n",
        "\n",
        "# Y = 'largo_petalo', 'ancho_petalo'; X = 'largo_sepalo', 'ancho_sepalo')\n",
        "X_iris = np.asarray(df.loc[:, ['sepal_length', 'sepal_width']], dtype=np.float32)\n",
        "Y_iris = np.asarray(df.loc[:, ['petal_length', 'petal_width']], dtype=np.float32)\n",
        "label_iris = np.asarray(df.species_n, dtype=int)\n",
        "\n",
        "# Escala\n",
        "from sklearn.preprocessing import StandardScaler\n",
        "scalerx, scalery = StandardScaler(), StandardScaler()\n",
        "X_iris = scalerx.fit_transform(X_iris)\n",
        "Y_iris = StandardScaler().fit_transform(Y_iris)\n",
        "\n",
        "# Dividir la data\n",
        "X_iris_tr, X_iris_val, Y_iris_tr, Y_iris_val, label_iris_tr, label_iris_val = \\\n",
        "    sklearn.model_selection.train_test_split(X_iris, Y_iris, label_iris, train_size=0.5, stratify=label_iris)"
      ],
      "metadata": {
        "colab": {
          "base_uri": "https://localhost:8080/",
          "height": 830
        },
        "id": "uR0laFoLpQaP",
        "outputId": "7b143a57-a753-47d3-d11d-8e554ddaad9a"
      },
      "execution_count": null,
      "outputs": [
        {
          "output_type": "stream",
          "name": "stderr",
          "text": [
            "/usr/local/lib/python3.7/dist-packages/ipykernel_launcher.py:5: SettingWithCopyWarning: \n",
            "A value is trying to be set on a copy of a slice from a DataFrame.\n",
            "Try using .loc[row_indexer,col_indexer] = value instead\n",
            "\n",
            "See the caveats in the documentation: https://pandas.pydata.org/pandas-docs/stable/user_guide/indexing.html#returning-a-view-versus-a-copy\n",
            "  \"\"\"\n"
          ]
        },
        {
          "output_type": "display_data",
          "data": {
            "text/plain": [
              "<Figure size 804.75x720 with 20 Axes>"
            ],
            "image/png": "[encoded data removed]"
          },
          "metadata": {
            "needs_background": "light"
          }
        }
      ]
    },
    {
      "cell_type": "markdown",
      "source": [
        "Ahora realizamos el algoritmo de Backpropagation"
      ],
      "metadata": {
        "id": "FshCnKaNqZ3L"
      }
    },
    {
      "cell_type": "code",
      "source": [
        "# X=X_iris_tr; Y=Y_iris_tr; X_val=X_iris_val; Y_val=Y_iris_val\n",
        "# del X, Y, X_val, Y_val\n",
        "\n",
        "def two_layer_regression_autograd_train(X, Y, X_val, Y_val, lr, nite):\n",
        "\n",
        "    dtype = torch.float\n",
        "    device = torch.device(\"cpu\")\n",
        "\n",
        "    # N tamaño del lote; D_in dimension de la entrada;\n",
        "    # H dimension de capa oculpa; D_out dimension de la salida.\n",
        "    N, D_in, H, D_out = X.shape[0], X.shape[1], 100, Y.shape[1]\n",
        "\n",
        "\n",
        "    X = torch.from_numpy(X)\n",
        "    Y = torch.from_numpy(Y)\n",
        "    X_val = torch.from_numpy(X_val)\n",
        "    Y_val = torch.from_numpy(Y_val)\n",
        "\n",
        "    # Creamos tensores aleatorios para los pesos\n",
        "    # La configuración require_grad=True indica que queremos calcular gradientes\n",
        "    #con respecto a estos tensores durante el backward.\n",
        "    W1 = torch.randn(D_in, H, device=device, dtype=dtype, requires_grad=True)\n",
        "    W2 = torch.randn(H, D_out, device=device, dtype=dtype, requires_grad=True)\n",
        "\n",
        "    losses_tr, losses_val = list(), list()\n",
        "\n",
        "    learning_rate = lr\n",
        "    for t in range(nite):\n",
        "        # Paso forward: calcular la predicción de y utilizando operaciones\n",
        "        #sobre Tensores; son exactamente las mismas operaciones que utilizamos\n",
        "        #para calcular el forward utilizando Tensores, pero no necesitamos\n",
        "        #mantener referencias a valores intermedios ya que no estamos implementando\n",
        "        #el backward atrás a mano.\n",
        "        y_pred = X.mm(W1).clamp(min=0).mm(W2)\n",
        "\n",
        "        # Calcula e imprime la pérdida usando operaciones sobre Tensores.\n",
        "        # Ahora la pérdida es un Tensor de forma (1,)\n",
        "        # loss.item() obtiene el valor escalar que contiene la pérdida.\n",
        "        loss = (y_pred - Y).pow(2).sum()\n",
        "\n",
        "        # Usar autograd para calcular el pase backward. Esta llamada calculará el\n",
        "        # gradiente de la pérdida con respecto a todos los Tensores con requires_grad=True.\n",
        "        # Después de esta llamada w1.grad y w2.grad serán Tensores con el gradiente\n",
        "        # de la pérdida con respecto a w1 y w2 respectivamente.\n",
        "        loss.backward()\n",
        "\n",
        "       # Actualizar manualmente los pesos utilizando el descenso de gradiente. Envolver en torch.no_grad()\n",
        "       # porque los pesos tienen requires_grad=True, pero no necesitamos seguir esto\n",
        "       # en autograd.\n",
        "       # Una forma alternativa es operar sobre weight.data y weight.grad.data.\n",
        "       # Recordemos que tensor.data da un tensor que comparte el almacenamiento con\n",
        "       # tensor, pero no rastrea la historia.\n",
        "       # También puede utilizar torch.optim.SGD para lograr esto.\n",
        "        with torch.no_grad():\n",
        "            W1 -= learning_rate * W1.grad\n",
        "            W2 -= learning_rate * W2.grad\n",
        "\n",
        "            # Poner a cero manualmente los gradientes después de actualizar los pesos\n",
        "            W1.grad.zero_()\n",
        "            W2.grad.zero_()\n",
        "\n",
        "            y_pred = X_val.mm(W1).clamp(min=0).mm(W2)\n",
        "\n",
        "           # Calcula e imprime la pérdida usando operaciones sobre Tensores.\n",
        "          # Ahora la pérdida es un Tensor de forma (1,)\n",
        "          # loss.item() obtiene el valor escalar que contiene la pérdida.\n",
        "            loss_val = (y_pred - Y).pow(2).sum()\n",
        "\n",
        "        if t % 10 == 0:\n",
        "            print(t, loss.item(), loss_val.item())\n",
        "\n",
        "        losses_tr.append(loss.item())\n",
        "        losses_val.append(loss_val.item())\n",
        "\n",
        "    return W1, W2, losses_tr, losses_val\n",
        "\n",
        "W1, W2, losses_tr, losses_val = two_layer_regression_autograd_train(X=X_iris_tr, Y=Y_iris_tr, X_val=X_iris_val, Y_val=Y_iris_val,\n",
        "                                                                 lr=1e-4, nite=50)\n",
        "plt.plot(np.arange(len(losses_tr)), losses_tr, \"-b\", np.arange(len(losses_val)), losses_val, \"-r\")"
      ],
      "metadata": {
        "colab": {
          "base_uri": "https://localhost:8080/",
          "height": 387
        },
        "id": "jYMaTnfLqdUM",
        "outputId": "dca79d7f-c8d6-4e97-a774-61e3fd7f4f44"
      },
      "execution_count": null,
      "outputs": [
        {
          "output_type": "stream",
          "name": "stdout",
          "text": [
            "0 6932.80078125 3641.39697265625\n",
            "10 113.70435333251953 308.97198486328125\n",
            "20 57.450523376464844 216.74197387695312\n",
            "30 42.3106575012207 191.138916015625\n",
            "40 37.629703521728516 183.92446899414062\n"
          ]
        },
        {
          "output_type": "execute_result",
          "data": {
            "text/plain": [
              "[<matplotlib.lines.Line2D at 0x7f9275cc4c10>,\n",
              " <matplotlib.lines.Line2D at 0x7f9275cc4e10>]"
            ]
          },
          "metadata": {},
          "execution_count": 25
        },
        {
          "output_type": "display_data",
          "data": {
            "text/plain": [
              "<Figure size 432x288 with 1 Axes>"
            ],
            "image/png": "[encoded data removed]"
          },
          "metadata": {
            "needs_background": "light"
          }
        }
      ]
    }
  ]
}